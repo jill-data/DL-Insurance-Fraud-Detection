{
 "cells": [
  {
   "cell_type": "code",
   "execution_count": 1,
   "id": "8fae27eb",
   "metadata": {},
   "outputs": [],
   "source": [
    "import pandas as pd\n",
    "import numpy as np\n",
    "import datetime\n",
    "import matplotlib.pyplot as plt\n",
    "from sklearn.model_selection import train_test_split\n",
    "from sklearn.tree import DecisionTreeClassifier\n",
    "from sklearn.metrics import accuracy_score\n",
    "from sklearn import tree\n",
    "import seaborn as sns\n",
    "from sklearn.preprocessing import OneHotEncoder, LabelEncoder, StandardScaler\n",
    "import tensorflow as tf\n",
    "from sklearn.metrics import mean_squared_error\n",
    "import keras_tuner as kt\n",
    "from sklearn import metrics"
   ]
  },
  {
   "cell_type": "code",
   "execution_count": 2,
   "id": "b27dd8ed",
   "metadata": {},
   "outputs": [],
   "source": [
    "df_insurance_claims = pd.read_csv(\"D:/Postgraduate_studies_BA/Term_2/Applied_Deep_Learning/Week5/Insurance_claims.csv\")"
   ]
  },
  {
   "cell_type": "markdown",
   "id": "19085732",
   "metadata": {},
   "source": [
    "## Model 1: The Simple model based on the incident occurs within t days of the subscription date.\n",
    "### Data Pre-processing"
   ]
  },
  {
   "cell_type": "code",
   "execution_count": 3,
   "id": "19efc71f",
   "metadata": {},
   "outputs": [
    {
     "data": {
      "text/html": [
       "<div>\n",
       "<style scoped>\n",
       "    .dataframe tbody tr th:only-of-type {\n",
       "        vertical-align: middle;\n",
       "    }\n",
       "\n",
       "    .dataframe tbody tr th {\n",
       "        vertical-align: top;\n",
       "    }\n",
       "\n",
       "    .dataframe thead th {\n",
       "        text-align: right;\n",
       "    }\n",
       "</style>\n",
       "<table border=\"1\" class=\"dataframe\">\n",
       "  <thead>\n",
       "    <tr style=\"text-align: right;\">\n",
       "      <th></th>\n",
       "      <th>ReferenceId</th>\n",
       "      <th>PolicyholderNumber</th>\n",
       "      <th>FirstPartyVehicleNumber</th>\n",
       "      <th>ThirdPartyVehicleNumber</th>\n",
       "      <th>InsurerNotes</th>\n",
       "      <th>PolicyholderOccupation</th>\n",
       "      <th>LossDate</th>\n",
       "      <th>FirstPolicySubscriptionDate</th>\n",
       "      <th>ClaimCause</th>\n",
       "      <th>ClaimInvolvedCovers</th>\n",
       "      <th>...</th>\n",
       "      <th>NumberOfPoliciesOfPolicyholder</th>\n",
       "      <th>FpVehicleAgeMonths</th>\n",
       "      <th>EasinessToStage</th>\n",
       "      <th>ClaimWihoutIdentifiedThirdParty</th>\n",
       "      <th>ClaimAmount</th>\n",
       "      <th>LossHour</th>\n",
       "      <th>PolicyHolderAge</th>\n",
       "      <th>NumberOfBodilyInjuries</th>\n",
       "      <th>FirstPartyLiability</th>\n",
       "      <th>Fraud</th>\n",
       "    </tr>\n",
       "  </thead>\n",
       "  <tbody>\n",
       "    <tr>\n",
       "      <th>0</th>\n",
       "      <td>4842</td>\n",
       "      <td>531112</td>\n",
       "      <td>715507.0</td>\n",
       "      <td>NaN</td>\n",
       "      <td>avoids a cat and hits a garage pole With deduc...</td>\n",
       "      <td>CivilServant</td>\n",
       "      <td>1/2/19</td>\n",
       "      <td>6/18/18</td>\n",
       "      <td>CollisionWithAnimal</td>\n",
       "      <td>MaterialDamages ActLiability</td>\n",
       "      <td>...</td>\n",
       "      <td>1</td>\n",
       "      <td>104.0</td>\n",
       "      <td>0.25</td>\n",
       "      <td>1</td>\n",
       "      <td>4624.73</td>\n",
       "      <td>8.0</td>\n",
       "      <td>45.0</td>\n",
       "      <td>0</td>\n",
       "      <td>1.0</td>\n",
       "      <td>0</td>\n",
       "    </tr>\n",
       "    <tr>\n",
       "      <th>1</th>\n",
       "      <td>4844</td>\n",
       "      <td>87170</td>\n",
       "      <td>71164.0</td>\n",
       "      <td>NaN</td>\n",
       "      <td>accident only expert contacts us to inform us ...</td>\n",
       "      <td>Worker</td>\n",
       "      <td>1/2/19</td>\n",
       "      <td>6/29/17</td>\n",
       "      <td>LossOfControl</td>\n",
       "      <td>MaterialDamages ActLiability</td>\n",
       "      <td>...</td>\n",
       "      <td>3</td>\n",
       "      <td>230.0</td>\n",
       "      <td>0.50</td>\n",
       "      <td>1</td>\n",
       "      <td>1606.81</td>\n",
       "      <td>11.0</td>\n",
       "      <td>20.0</td>\n",
       "      <td>0</td>\n",
       "      <td>1.0</td>\n",
       "      <td>0</td>\n",
       "    </tr>\n",
       "    <tr>\n",
       "      <th>2</th>\n",
       "      <td>4848</td>\n",
       "      <td>98706</td>\n",
       "      <td>442609.0</td>\n",
       "      <td>NaN</td>\n",
       "      <td>ae Miss/ for garage change A/ setting up EAD/ ...</td>\n",
       "      <td>Worker</td>\n",
       "      <td>1/2/19</td>\n",
       "      <td>2/5/17</td>\n",
       "      <td>AccidentWithIdentifiedThirdParty</td>\n",
       "      <td>MaterialDamages ActLiability</td>\n",
       "      <td>...</td>\n",
       "      <td>9</td>\n",
       "      <td>93.0</td>\n",
       "      <td>0.25</td>\n",
       "      <td>0</td>\n",
       "      <td>998.20</td>\n",
       "      <td>18.0</td>\n",
       "      <td>32.0</td>\n",
       "      <td>0</td>\n",
       "      <td>0.5</td>\n",
       "      <td>0</td>\n",
       "    </tr>\n",
       "    <tr>\n",
       "      <th>3</th>\n",
       "      <td>4849</td>\n",
       "      <td>38240</td>\n",
       "      <td>24604.0</td>\n",
       "      <td>NaN</td>\n",
       "      <td>awaiting report to determine rc, no box checke...</td>\n",
       "      <td>CivilServant</td>\n",
       "      <td>1/2/19</td>\n",
       "      <td>1/21/17</td>\n",
       "      <td>AccidentWithIdentifiedThirdParty</td>\n",
       "      <td>MaterialDamages ActLiability ReplacementVehicle</td>\n",
       "      <td>...</td>\n",
       "      <td>2</td>\n",
       "      <td>56.0</td>\n",
       "      <td>0.25</td>\n",
       "      <td>0</td>\n",
       "      <td>2506.92</td>\n",
       "      <td>11.0</td>\n",
       "      <td>46.0</td>\n",
       "      <td>0</td>\n",
       "      <td>0.5</td>\n",
       "      <td>0</td>\n",
       "    </tr>\n",
       "    <tr>\n",
       "      <th>4</th>\n",
       "      <td>4850</td>\n",
       "      <td>11339</td>\n",
       "      <td>2933.0</td>\n",
       "      <td>229134.0</td>\n",
       "      <td>Insured in THIRD-PARTY formula Insured in a su...</td>\n",
       "      <td>Farmer</td>\n",
       "      <td>1/2/19</td>\n",
       "      <td>1/13/18</td>\n",
       "      <td>AccidentWithIdentifiedThirdParty</td>\n",
       "      <td>ActLiability</td>\n",
       "      <td>...</td>\n",
       "      <td>4</td>\n",
       "      <td>110.0</td>\n",
       "      <td>0.25</td>\n",
       "      <td>0</td>\n",
       "      <td>12.00</td>\n",
       "      <td>12.0</td>\n",
       "      <td>28.0</td>\n",
       "      <td>0</td>\n",
       "      <td>0.0</td>\n",
       "      <td>0</td>\n",
       "    </tr>\n",
       "  </tbody>\n",
       "</table>\n",
       "<p>5 rows × 26 columns</p>\n",
       "</div>"
      ],
      "text/plain": [
       "   ReferenceId  PolicyholderNumber  FirstPartyVehicleNumber  \\\n",
       "0         4842              531112                 715507.0   \n",
       "1         4844               87170                  71164.0   \n",
       "2         4848               98706                 442609.0   \n",
       "3         4849               38240                  24604.0   \n",
       "4         4850               11339                   2933.0   \n",
       "\n",
       "   ThirdPartyVehicleNumber                                       InsurerNotes  \\\n",
       "0                      NaN  avoids a cat and hits a garage pole With deduc...   \n",
       "1                      NaN  accident only expert contacts us to inform us ...   \n",
       "2                      NaN  ae Miss/ for garage change A/ setting up EAD/ ...   \n",
       "3                      NaN  awaiting report to determine rc, no box checke...   \n",
       "4                 229134.0  Insured in THIRD-PARTY formula Insured in a su...   \n",
       "\n",
       "  PolicyholderOccupation LossDate FirstPolicySubscriptionDate  \\\n",
       "0           CivilServant   1/2/19                     6/18/18   \n",
       "1                 Worker   1/2/19                     6/29/17   \n",
       "2                 Worker   1/2/19                      2/5/17   \n",
       "3           CivilServant   1/2/19                     1/21/17   \n",
       "4                 Farmer   1/2/19                     1/13/18   \n",
       "\n",
       "                         ClaimCause  \\\n",
       "0               CollisionWithAnimal   \n",
       "1                     LossOfControl   \n",
       "2  AccidentWithIdentifiedThirdParty   \n",
       "3  AccidentWithIdentifiedThirdParty   \n",
       "4  AccidentWithIdentifiedThirdParty   \n",
       "\n",
       "                               ClaimInvolvedCovers  ...  \\\n",
       "0                     MaterialDamages ActLiability  ...   \n",
       "1                     MaterialDamages ActLiability  ...   \n",
       "2                     MaterialDamages ActLiability  ...   \n",
       "3  MaterialDamages ActLiability ReplacementVehicle  ...   \n",
       "4                                     ActLiability  ...   \n",
       "\n",
       "  NumberOfPoliciesOfPolicyholder FpVehicleAgeMonths EasinessToStage  \\\n",
       "0                              1              104.0            0.25   \n",
       "1                              3              230.0            0.50   \n",
       "2                              9               93.0            0.25   \n",
       "3                              2               56.0            0.25   \n",
       "4                              4              110.0            0.25   \n",
       "\n",
       "  ClaimWihoutIdentifiedThirdParty ClaimAmount  LossHour  PolicyHolderAge  \\\n",
       "0                               1     4624.73       8.0             45.0   \n",
       "1                               1     1606.81      11.0             20.0   \n",
       "2                               0      998.20      18.0             32.0   \n",
       "3                               0     2506.92      11.0             46.0   \n",
       "4                               0       12.00      12.0             28.0   \n",
       "\n",
       "   NumberOfBodilyInjuries  FirstPartyLiability  Fraud  \n",
       "0                       0                  1.0      0  \n",
       "1                       0                  1.0      0  \n",
       "2                       0                  0.5      0  \n",
       "3                       0                  0.5      0  \n",
       "4                       0                  0.0      0  \n",
       "\n",
       "[5 rows x 26 columns]"
      ]
     },
     "execution_count": 3,
     "metadata": {},
     "output_type": "execute_result"
    }
   ],
   "source": [
    "df_insurance_claims.head()"
   ]
  },
  {
   "cell_type": "code",
   "execution_count": 4,
   "id": "533ae9d1",
   "metadata": {
    "scrolled": true
   },
   "outputs": [
    {
     "data": {
      "text/plain": [
       "ReferenceId                            0\n",
       "PolicyholderNumber                     0\n",
       "FirstPartyVehicleNumber              495\n",
       "ThirdPartyVehicleNumber            11151\n",
       "InsurerNotes                        2357\n",
       "PolicyholderOccupation               343\n",
       "LossDate                               0\n",
       "FirstPolicySubscriptionDate            0\n",
       "ClaimCause                           197\n",
       "ClaimInvolvedCovers                  195\n",
       "DamageImportance                   10792\n",
       "FirstPartyVehicleType                 12\n",
       "ConnectionBetweenParties           11432\n",
       "LossPostCode                        1408\n",
       "PolicyHolderPostCode                   0\n",
       "PolicyWasSubscribedOnInternet          0\n",
       "NumberOfPoliciesOfPolicyholder         0\n",
       "FpVehicleAgeMonths                    12\n",
       "EasinessToStage                        0\n",
       "ClaimWihoutIdentifiedThirdParty        0\n",
       "ClaimAmount                            0\n",
       "LossHour                              94\n",
       "PolicyHolderAge                       36\n",
       "NumberOfBodilyInjuries                 0\n",
       "FirstPartyLiability                    0\n",
       "Fraud                                  0\n",
       "dtype: int64"
      ]
     },
     "execution_count": 4,
     "metadata": {},
     "output_type": "execute_result"
    }
   ],
   "source": [
    "# Check the missing values for each column\n",
    "df_insurance_claims.isna().sum()"
   ]
  },
  {
   "cell_type": "code",
   "execution_count": 5,
   "id": "1c22874e",
   "metadata": {},
   "outputs": [
    {
     "data": {
      "text/plain": [
       "ReferenceId                        11530\n",
       "PolicyholderNumber                  9404\n",
       "FirstPartyVehicleNumber             9431\n",
       "ThirdPartyVehicleNumber              350\n",
       "InsurerNotes                        9040\n",
       "PolicyholderOccupation                11\n",
       "LossDate                             804\n",
       "FirstPolicySubscriptionDate         1389\n",
       "ClaimCause                            18\n",
       "ClaimInvolvedCovers                   68\n",
       "DamageImportance                       2\n",
       "FirstPartyVehicleType                  4\n",
       "ConnectionBetweenParties               5\n",
       "LossPostCode                        3004\n",
       "PolicyHolderPostCode                3130\n",
       "PolicyWasSubscribedOnInternet          2\n",
       "NumberOfPoliciesOfPolicyholder        17\n",
       "FpVehicleAgeMonths                   388\n",
       "EasinessToStage                        4\n",
       "ClaimWihoutIdentifiedThirdParty        2\n",
       "ClaimAmount                         8248\n",
       "LossHour                              24\n",
       "PolicyHolderAge                       73\n",
       "NumberOfBodilyInjuries                 6\n",
       "FirstPartyLiability                    3\n",
       "Fraud                                  2\n",
       "dtype: int64"
      ]
     },
     "execution_count": 5,
     "metadata": {},
     "output_type": "execute_result"
    }
   ],
   "source": [
    "# Check the unique values for each column\n",
    "df_insurance_claims.nunique()"
   ]
  },
  {
   "cell_type": "markdown",
   "id": "1f58c7b6",
   "metadata": {},
   "source": [
    "#### For the model 1, we want to find out which claims are suspicious if the incident occurs within t days of subscription date. Therefore, we only need columns:\n",
    "- FirstPolicySubscriptionDate\n",
    "- LossDate\n",
    "- Fraud"
   ]
  },
  {
   "cell_type": "code",
   "execution_count": 6,
   "id": "f6e42ca0",
   "metadata": {},
   "outputs": [
    {
     "data": {
      "text/html": [
       "<div>\n",
       "<style scoped>\n",
       "    .dataframe tbody tr th:only-of-type {\n",
       "        vertical-align: middle;\n",
       "    }\n",
       "\n",
       "    .dataframe tbody tr th {\n",
       "        vertical-align: top;\n",
       "    }\n",
       "\n",
       "    .dataframe thead th {\n",
       "        text-align: right;\n",
       "    }\n",
       "</style>\n",
       "<table border=\"1\" class=\"dataframe\">\n",
       "  <thead>\n",
       "    <tr style=\"text-align: right;\">\n",
       "      <th></th>\n",
       "      <th>LossDate</th>\n",
       "      <th>FirstPolicySubscriptionDate</th>\n",
       "      <th>Fraud</th>\n",
       "    </tr>\n",
       "  </thead>\n",
       "  <tbody>\n",
       "    <tr>\n",
       "      <th>0</th>\n",
       "      <td>1/2/19</td>\n",
       "      <td>6/18/18</td>\n",
       "      <td>0</td>\n",
       "    </tr>\n",
       "    <tr>\n",
       "      <th>1</th>\n",
       "      <td>1/2/19</td>\n",
       "      <td>6/29/17</td>\n",
       "      <td>0</td>\n",
       "    </tr>\n",
       "    <tr>\n",
       "      <th>2</th>\n",
       "      <td>1/2/19</td>\n",
       "      <td>2/5/17</td>\n",
       "      <td>0</td>\n",
       "    </tr>\n",
       "    <tr>\n",
       "      <th>3</th>\n",
       "      <td>1/2/19</td>\n",
       "      <td>1/21/17</td>\n",
       "      <td>0</td>\n",
       "    </tr>\n",
       "    <tr>\n",
       "      <th>4</th>\n",
       "      <td>1/2/19</td>\n",
       "      <td>1/13/18</td>\n",
       "      <td>0</td>\n",
       "    </tr>\n",
       "    <tr>\n",
       "      <th>...</th>\n",
       "      <td>...</td>\n",
       "      <td>...</td>\n",
       "      <td>...</td>\n",
       "    </tr>\n",
       "    <tr>\n",
       "      <th>11525</th>\n",
       "      <td>2/17/21</td>\n",
       "      <td>3/15/19</td>\n",
       "      <td>0</td>\n",
       "    </tr>\n",
       "    <tr>\n",
       "      <th>11526</th>\n",
       "      <td>3/7/21</td>\n",
       "      <td>7/20/17</td>\n",
       "      <td>0</td>\n",
       "    </tr>\n",
       "    <tr>\n",
       "      <th>11527</th>\n",
       "      <td>3/15/21</td>\n",
       "      <td>9/30/20</td>\n",
       "      <td>0</td>\n",
       "    </tr>\n",
       "    <tr>\n",
       "      <th>11528</th>\n",
       "      <td>3/6/21</td>\n",
       "      <td>12/28/18</td>\n",
       "      <td>0</td>\n",
       "    </tr>\n",
       "    <tr>\n",
       "      <th>11529</th>\n",
       "      <td>3/13/21</td>\n",
       "      <td>3/1/17</td>\n",
       "      <td>0</td>\n",
       "    </tr>\n",
       "  </tbody>\n",
       "</table>\n",
       "<p>11530 rows × 3 columns</p>\n",
       "</div>"
      ],
      "text/plain": [
       "      LossDate FirstPolicySubscriptionDate  Fraud\n",
       "0       1/2/19                     6/18/18      0\n",
       "1       1/2/19                     6/29/17      0\n",
       "2       1/2/19                      2/5/17      0\n",
       "3       1/2/19                     1/21/17      0\n",
       "4       1/2/19                     1/13/18      0\n",
       "...        ...                         ...    ...\n",
       "11525  2/17/21                     3/15/19      0\n",
       "11526   3/7/21                     7/20/17      0\n",
       "11527  3/15/21                     9/30/20      0\n",
       "11528   3/6/21                    12/28/18      0\n",
       "11529  3/13/21                      3/1/17      0\n",
       "\n",
       "[11530 rows x 3 columns]"
      ]
     },
     "execution_count": 6,
     "metadata": {},
     "output_type": "execute_result"
    }
   ],
   "source": [
    "df_insurance_claims_model_1 = df_insurance_claims[[\"LossDate\", \"FirstPolicySubscriptionDate\", \"Fraud\"]]\n",
    "df_insurance_claims_model_1"
   ]
  },
  {
   "cell_type": "markdown",
   "id": "775f6541",
   "metadata": {},
   "source": [
    "#### Based on the \"LossDate\" and \"FirstPolicySubscriptionDate\", we calculated the gap days as \"Days\" between these two columns"
   ]
  },
  {
   "cell_type": "code",
   "execution_count": 7,
   "id": "ca042c47",
   "metadata": {},
   "outputs": [
    {
     "name": "stderr",
     "output_type": "stream",
     "text": [
      "C:\\Users\\98179\\AppData\\Local\\Temp\\ipykernel_25696\\1508960330.py:1: SettingWithCopyWarning: \n",
      "A value is trying to be set on a copy of a slice from a DataFrame.\n",
      "Try using .loc[row_indexer,col_indexer] = value instead\n",
      "\n",
      "See the caveats in the documentation: https://pandas.pydata.org/pandas-docs/stable/user_guide/indexing.html#returning-a-view-versus-a-copy\n",
      "  df_insurance_claims_model_1[\"LossDate\"] = pd.to_datetime(df_insurance_claims_model_1[\"LossDate\"])\n",
      "C:\\Users\\98179\\AppData\\Local\\Temp\\ipykernel_25696\\1508960330.py:2: SettingWithCopyWarning: \n",
      "A value is trying to be set on a copy of a slice from a DataFrame.\n",
      "Try using .loc[row_indexer,col_indexer] = value instead\n",
      "\n",
      "See the caveats in the documentation: https://pandas.pydata.org/pandas-docs/stable/user_guide/indexing.html#returning-a-view-versus-a-copy\n",
      "  df_insurance_claims_model_1[\"FirstPolicySubscriptionDate\"] = pd.to_datetime(df_insurance_claims_model_1[\"FirstPolicySubscriptionDate\"])\n"
     ]
    }
   ],
   "source": [
    "df_insurance_claims_model_1[\"LossDate\"] = pd.to_datetime(df_insurance_claims_model_1[\"LossDate\"])\n",
    "df_insurance_claims_model_1[\"FirstPolicySubscriptionDate\"] = pd.to_datetime(df_insurance_claims_model_1[\"FirstPolicySubscriptionDate\"])"
   ]
  },
  {
   "cell_type": "code",
   "execution_count": 8,
   "id": "e342b4a2",
   "metadata": {},
   "outputs": [
    {
     "name": "stderr",
     "output_type": "stream",
     "text": [
      "C:\\Users\\98179\\AppData\\Local\\Temp\\ipykernel_25696\\3779345626.py:1: SettingWithCopyWarning: \n",
      "A value is trying to be set on a copy of a slice from a DataFrame.\n",
      "Try using .loc[row_indexer,col_indexer] = value instead\n",
      "\n",
      "See the caveats in the documentation: https://pandas.pydata.org/pandas-docs/stable/user_guide/indexing.html#returning-a-view-versus-a-copy\n",
      "  df_insurance_claims_model_1[\"Days\"] = df_insurance_claims_model_1[\"LossDate\"] - df_insurance_claims_model_1[\"FirstPolicySubscriptionDate\"]\n",
      "C:\\Users\\98179\\AppData\\Local\\Temp\\ipykernel_25696\\3779345626.py:2: SettingWithCopyWarning: \n",
      "A value is trying to be set on a copy of a slice from a DataFrame.\n",
      "Try using .loc[row_indexer,col_indexer] = value instead\n",
      "\n",
      "See the caveats in the documentation: https://pandas.pydata.org/pandas-docs/stable/user_guide/indexing.html#returning-a-view-versus-a-copy\n",
      "  df_insurance_claims_model_1[\"Days\"] = pd.to_numeric(df_insurance_claims_model_1[\"Days\"].dt.days, downcast='integer')\n"
     ]
    }
   ],
   "source": [
    "df_insurance_claims_model_1[\"Days\"] = df_insurance_claims_model_1[\"LossDate\"] - df_insurance_claims_model_1[\"FirstPolicySubscriptionDate\"]\n",
    "df_insurance_claims_model_1[\"Days\"] = pd.to_numeric(df_insurance_claims_model_1[\"Days\"].dt.days, downcast='integer')\n",
    "df_insurance_claims_model_1 = df_insurance_claims_model_1.astype({\"Days\": \"int64\"})"
   ]
  },
  {
   "cell_type": "code",
   "execution_count": 9,
   "id": "b6c437a3",
   "metadata": {},
   "outputs": [
    {
     "data": {
      "text/html": [
       "<div>\n",
       "<style scoped>\n",
       "    .dataframe tbody tr th:only-of-type {\n",
       "        vertical-align: middle;\n",
       "    }\n",
       "\n",
       "    .dataframe tbody tr th {\n",
       "        vertical-align: top;\n",
       "    }\n",
       "\n",
       "    .dataframe thead th {\n",
       "        text-align: right;\n",
       "    }\n",
       "</style>\n",
       "<table border=\"1\" class=\"dataframe\">\n",
       "  <thead>\n",
       "    <tr style=\"text-align: right;\">\n",
       "      <th></th>\n",
       "      <th>LossDate</th>\n",
       "      <th>FirstPolicySubscriptionDate</th>\n",
       "      <th>Fraud</th>\n",
       "      <th>Days</th>\n",
       "    </tr>\n",
       "  </thead>\n",
       "  <tbody>\n",
       "    <tr>\n",
       "      <th>0</th>\n",
       "      <td>2019-01-02</td>\n",
       "      <td>2018-06-18</td>\n",
       "      <td>0</td>\n",
       "      <td>198</td>\n",
       "    </tr>\n",
       "    <tr>\n",
       "      <th>1</th>\n",
       "      <td>2019-01-02</td>\n",
       "      <td>2017-06-29</td>\n",
       "      <td>0</td>\n",
       "      <td>552</td>\n",
       "    </tr>\n",
       "    <tr>\n",
       "      <th>2</th>\n",
       "      <td>2019-01-02</td>\n",
       "      <td>2017-02-05</td>\n",
       "      <td>0</td>\n",
       "      <td>696</td>\n",
       "    </tr>\n",
       "    <tr>\n",
       "      <th>3</th>\n",
       "      <td>2019-01-02</td>\n",
       "      <td>2017-01-21</td>\n",
       "      <td>0</td>\n",
       "      <td>711</td>\n",
       "    </tr>\n",
       "    <tr>\n",
       "      <th>4</th>\n",
       "      <td>2019-01-02</td>\n",
       "      <td>2018-01-13</td>\n",
       "      <td>0</td>\n",
       "      <td>354</td>\n",
       "    </tr>\n",
       "    <tr>\n",
       "      <th>...</th>\n",
       "      <td>...</td>\n",
       "      <td>...</td>\n",
       "      <td>...</td>\n",
       "      <td>...</td>\n",
       "    </tr>\n",
       "    <tr>\n",
       "      <th>11525</th>\n",
       "      <td>2021-02-17</td>\n",
       "      <td>2019-03-15</td>\n",
       "      <td>0</td>\n",
       "      <td>705</td>\n",
       "    </tr>\n",
       "    <tr>\n",
       "      <th>11526</th>\n",
       "      <td>2021-03-07</td>\n",
       "      <td>2017-07-20</td>\n",
       "      <td>0</td>\n",
       "      <td>1326</td>\n",
       "    </tr>\n",
       "    <tr>\n",
       "      <th>11527</th>\n",
       "      <td>2021-03-15</td>\n",
       "      <td>2020-09-30</td>\n",
       "      <td>0</td>\n",
       "      <td>166</td>\n",
       "    </tr>\n",
       "    <tr>\n",
       "      <th>11528</th>\n",
       "      <td>2021-03-06</td>\n",
       "      <td>2018-12-28</td>\n",
       "      <td>0</td>\n",
       "      <td>799</td>\n",
       "    </tr>\n",
       "    <tr>\n",
       "      <th>11529</th>\n",
       "      <td>2021-03-13</td>\n",
       "      <td>2017-03-01</td>\n",
       "      <td>0</td>\n",
       "      <td>1473</td>\n",
       "    </tr>\n",
       "  </tbody>\n",
       "</table>\n",
       "<p>11530 rows × 4 columns</p>\n",
       "</div>"
      ],
      "text/plain": [
       "        LossDate FirstPolicySubscriptionDate  Fraud  Days\n",
       "0     2019-01-02                  2018-06-18      0   198\n",
       "1     2019-01-02                  2017-06-29      0   552\n",
       "2     2019-01-02                  2017-02-05      0   696\n",
       "3     2019-01-02                  2017-01-21      0   711\n",
       "4     2019-01-02                  2018-01-13      0   354\n",
       "...          ...                         ...    ...   ...\n",
       "11525 2021-02-17                  2019-03-15      0   705\n",
       "11526 2021-03-07                  2017-07-20      0  1326\n",
       "11527 2021-03-15                  2020-09-30      0   166\n",
       "11528 2021-03-06                  2018-12-28      0   799\n",
       "11529 2021-03-13                  2017-03-01      0  1473\n",
       "\n",
       "[11530 rows x 4 columns]"
      ]
     },
     "execution_count": 9,
     "metadata": {},
     "output_type": "execute_result"
    }
   ],
   "source": [
    "df_insurance_claims_model_1"
   ]
  },
  {
   "cell_type": "code",
   "execution_count": 10,
   "id": "7d025563",
   "metadata": {},
   "outputs": [
    {
     "name": "stdout",
     "output_type": "stream",
     "text": [
      "<class 'pandas.core.frame.DataFrame'>\n",
      "RangeIndex: 11530 entries, 0 to 11529\n",
      "Data columns (total 4 columns):\n",
      " #   Column                       Non-Null Count  Dtype         \n",
      "---  ------                       --------------  -----         \n",
      " 0   LossDate                     11530 non-null  datetime64[ns]\n",
      " 1   FirstPolicySubscriptionDate  11530 non-null  datetime64[ns]\n",
      " 2   Fraud                        11530 non-null  int64         \n",
      " 3   Days                         11530 non-null  int64         \n",
      "dtypes: datetime64[ns](2), int64(2)\n",
      "memory usage: 360.4 KB\n"
     ]
    }
   ],
   "source": [
    "df_insurance_claims_model_1.info()"
   ]
  },
  {
   "cell_type": "markdown",
   "id": "0d4e39e7",
   "metadata": {},
   "source": [
    "#### Determine the range of the t days"
   ]
  },
  {
   "cell_type": "code",
   "execution_count": 11,
   "id": "2012793f",
   "metadata": {},
   "outputs": [],
   "source": [
    "df_fraud = df_insurance_claims_model_1.loc[df_insurance_claims_model_1[\"Fraud\"] == 1]"
   ]
  },
  {
   "cell_type": "code",
   "execution_count": 12,
   "id": "fd7a5d2b",
   "metadata": {},
   "outputs": [
    {
     "data": {
      "text/plain": [
       "1201"
      ]
     },
     "execution_count": 12,
     "metadata": {},
     "output_type": "execute_result"
    }
   ],
   "source": [
    "# The maximum value of t\n",
    "df_fraud[\"Days\"].max()"
   ]
  },
  {
   "cell_type": "code",
   "execution_count": 13,
   "id": "cf7573bc",
   "metadata": {},
   "outputs": [
    {
     "data": {
      "text/plain": [
       "0"
      ]
     },
     "execution_count": 13,
     "metadata": {},
     "output_type": "execute_result"
    }
   ],
   "source": [
    "# The minimum value of t\n",
    "df_fraud[\"Days\"].min()"
   ]
  },
  {
   "cell_type": "code",
   "execution_count": 14,
   "id": "260d1797",
   "metadata": {},
   "outputs": [],
   "source": [
    "# Set up the range of t days\n",
    "t = range(1202)"
   ]
  },
  {
   "cell_type": "markdown",
   "id": "06cdd184",
   "metadata": {},
   "source": [
    "#### We calculated the detection rate and hit rate based on the each t days\n",
    "- The calculation formula of detection rate is:\n",
    "$$\n",
    "  Detection\\ Rate =\\frac{The\\ Number\\ of\\ Detection}{Total\\ Number\\ of\\ Observation}\\, *100\\%\n",
    "$$\n",
    "- The calculation formula of hit rate is:\n",
    "$$\n",
    "  Hit\\ Rate =\\frac{The\\ Number\\ of\\ Real\\ Fraud}{The\\ Number\\ of\\ Detection}\\, *100\\%\n",
    "$$\n"
   ]
  },
  {
   "cell_type": "code",
   "execution_count": 15,
   "id": "64b71960",
   "metadata": {},
   "outputs": [],
   "source": [
    "def detect_fraudulent_claims_model_1(t, df_datasets):\n",
    "    \n",
    "    # All_detection rate\n",
    "    d = []\n",
    "    # All hit rate\n",
    "    h = []\n",
    "    # All predictions \n",
    "    Y_all_prediction = []\n",
    "    \n",
    "    for i in t:\n",
    "        # All prediction based on each t\n",
    "        y_prediction = []\n",
    "        # The number of detection\n",
    "        a = 0\n",
    "        # The number of real fraud\n",
    "        b = 0\n",
    "        \n",
    "        for o in range(len(df_datasets)):\n",
    "            if df_datasets[\"Days\"][o] <= i:\n",
    "                a = a + 1\n",
    "                y = 1\n",
    "                y_prediction.append(y)\n",
    "                if df_datasets[\"Fraud\"][o] == 1:\n",
    "                    b = b + 1\n",
    "            else:\n",
    "                y = 0\n",
    "                y_prediction.append(y)\n",
    "        \n",
    "        detection_rate = round((a / len(df_datasets))*100, 2)\n",
    "        d.append(detection_rate)\n",
    "        hit_rate = round((b / a)*100, 2)\n",
    "        h.append(hit_rate)\n",
    "        \n",
    "        Y_all_prediction.append(y_prediction)\n",
    "\n",
    "    \n",
    "    return d, h, Y_all_prediction"
   ]
  },
  {
   "cell_type": "code",
   "execution_count": null,
   "id": "ef2995ea",
   "metadata": {},
   "outputs": [],
   "source": [
    "d, h, Y_all_prediction = detect_fraudulent_claims_model_1(t, df_insurance_claims_model_1)"
   ]
  },
  {
   "cell_type": "markdown",
   "id": "4a213f94",
   "metadata": {},
   "source": [
    "### The hit rate and detection rate of this model for different values of t are:"
   ]
  },
  {
   "cell_type": "markdown",
   "id": "faacd7bc",
   "metadata": {},
   "source": [
    "#### The hit rate (from t equals 0 to 1201)"
   ]
  },
  {
   "cell_type": "code",
   "execution_count": null,
   "id": "19536095",
   "metadata": {},
   "outputs": [],
   "source": [
    "h"
   ]
  },
  {
   "cell_type": "markdown",
   "id": "2ab0b2fd",
   "metadata": {},
   "source": [
    "#### The detection rate (from t equals 0 to 1201)"
   ]
  },
  {
   "cell_type": "code",
   "execution_count": null,
   "id": "b76627b6",
   "metadata": {},
   "outputs": [],
   "source": [
    "d"
   ]
  },
  {
   "cell_type": "markdown",
   "id": "0178415a",
   "metadata": {},
   "source": [
    "### Plot the results of detection rate and hit rate"
   ]
  },
  {
   "cell_type": "code",
   "execution_count": null,
   "id": "8de94b2d",
   "metadata": {},
   "outputs": [],
   "source": [
    "fig = plt.figure(figsize = (20, 20))\n",
    "AX1 = fig.add_subplot(2,2,1)\n",
    "AX2 = fig.add_subplot(2,2,2)\n",
    "\n",
    "AX1.plot(t, d, ls = \"--\", color = \"blue\")\n",
    "AX2.plot(t, h, ls = \"--\", color = \"red\")\n",
    "\n",
    "AX1.set_title(\"The Detection Rate Based on different t Days\", fontsize = 15, horizontalalignment=\"center\")\n",
    "AX2.set_title(\"The Hit Rate Based on different t Days\", fontsize = 15, horizontalalignment=\"center\")\n",
    "\n",
    "AX1.set_xlabel(\"Days\", fontsize = 10)\n",
    "AX1.set_ylabel(\"Detection Rate\", fontsize = 10)\n",
    "\n",
    "AX2.set_xlabel(\"Days\", fontsize = 10)\n",
    "AX2.set_ylabel(\"Hit Rate\", fontsize = 10)"
   ]
  },
  {
   "cell_type": "markdown",
   "id": "a41b873f",
   "metadata": {},
   "source": [
    "In order to choose a sensible value of t, we used Receiver Operating Characteristic(ROC) accuracy to evaluate which t is the sensible one. \n",
    "\n",
    "A large ROC accuracy indicates that this model with a specific t is able to accurately identify suspicious claims while minimizing the number of false positives. \n",
    "\n",
    "- The calculation formula of ROC accuracy is:\n",
    "\n",
    "$$\n",
    "  ROC\\ Accuracy =\\frac{TP\\ +\\ TN}{TP\\ +\\ TN\\ +\\ FP\\ +\\ FN}\n",
    "$$\n"
   ]
  },
  {
   "cell_type": "code",
   "execution_count": null,
   "id": "76d14060",
   "metadata": {},
   "outputs": [],
   "source": [
    "def get_all_roc_accuracy(y, y_hat):\n",
    "    all_roc_acc = []\n",
    "    for i in range(len(t)):\n",
    "        roc_acc = round(metrics.roc_auc_score(y, y_hat[i]), 2)\n",
    "        all_roc_acc.append(roc_acc)\n",
    "    return all_roc_acc"
   ]
  },
  {
   "cell_type": "code",
   "execution_count": null,
   "id": "f46ba89d",
   "metadata": {},
   "outputs": [],
   "source": [
    "all_roc_acc = get_all_roc_accuracy(df_insurance_claims_model_1[\"Fraud\"], Y_all_prediction)"
   ]
  },
  {
   "cell_type": "markdown",
   "id": "c41c5b64",
   "metadata": {},
   "source": [
    "#### The ROC accuracy of the model (from t equals 0 to 1201)"
   ]
  },
  {
   "cell_type": "code",
   "execution_count": null,
   "id": "bbe7719d",
   "metadata": {},
   "outputs": [],
   "source": [
    "all_roc_acc"
   ]
  },
  {
   "cell_type": "markdown",
   "id": "26169d76",
   "metadata": {},
   "source": [
    "### Plot the ROC accuracy based on each t days"
   ]
  },
  {
   "cell_type": "code",
   "execution_count": null,
   "id": "71995d31",
   "metadata": {},
   "outputs": [],
   "source": [
    "fig = plt.figure(figsize = (15, 5))\n",
    "AX1 = fig.add_subplot(1,1,1)\n",
    "\n",
    "AX1.plot(t, all_roc_acc, ls = \"-\", color = \"green\")\n",
    "\n",
    "AX1.set_title(\"The ROC accuracy Based on different t Days\", fontsize = 15, horizontalalignment=\"center\")\n",
    "\n",
    "AX1.set_xlabel(\"t days\", fontsize = 10)\n",
    "AX1.set_ylabel(\"ROC accuracy\", fontsize = 10)\n"
   ]
  },
  {
   "cell_type": "markdown",
   "id": "46e9a69f",
   "metadata": {},
   "source": [
    "### Find out the sensible t of this model"
   ]
  },
  {
   "cell_type": "code",
   "execution_count": null,
   "id": "428789d3",
   "metadata": {},
   "outputs": [],
   "source": [
    "for i in range(len(all_roc_acc)):\n",
    "    if all_roc_acc[i] == max(all_roc_acc):\n",
    "        print(\"The sensible t is \" + str(i))\n",
    "        print(\"The detection rate is \" + str(d[i]) + \"%\")\n",
    "        print(\"The hit rate is \" + str(h[i]) + \"%\")\n",
    "        print(\"The ROC accuracy of the model is \" + str(all_roc_acc[i]))"
   ]
  },
  {
   "cell_type": "markdown",
   "id": "f240eb22",
   "metadata": {},
   "source": [
    "### The logic underlies this model and its bias"
   ]
  },
  {
   "cell_type": "markdown",
   "id": "11233a5b",
   "metadata": {},
   "source": [
    "The logic underlying this model is that when a customer subscribes to a service, it is more likely that fraudulent claims will be made shortly after the subscription date. Therefore, by setting a threshold for how soon a claim can be made after the subscription date, it is possible to identify suspicious claims. This threshold can then be adjusted to find a balance between the hit rate and detection rate for the model.\n",
    "\n",
    "\n",
    "However, this model has the potential to discriminate against customers who make claims shortly after subscribing to a service, as these claims will be flagged as suspicious regardless of their validity. That would damage the customers' trust relationship with the company. Additionally, if the threshold is set too low, then the model may also falsely flag legitimate claims as suspicious."
   ]
  }
 ],
 "metadata": {
  "kernelspec": {
   "display_name": "Python 3 (ipykernel)",
   "language": "python",
   "name": "python3"
  },
  "language_info": {
   "codemirror_mode": {
    "name": "ipython",
    "version": 3
   },
   "file_extension": ".py",
   "mimetype": "text/x-python",
   "name": "python",
   "nbconvert_exporter": "python",
   "pygments_lexer": "ipython3",
   "version": "3.9.12"
  }
 },
 "nbformat": 4,
 "nbformat_minor": 5
}
